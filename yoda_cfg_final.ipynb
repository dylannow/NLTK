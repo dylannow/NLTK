{
 "cells": [
  {
   "cell_type": "markdown",
   "id": "999d7028",
   "metadata": {},
   "source": [
    "### Importing modules and corpus"
   ]
  },
  {
   "cell_type": "code",
   "execution_count": 17,
   "id": "e063acfb",
   "metadata": {},
   "outputs": [],
   "source": [
    "import nltk\n",
    "from nltk import word_tokenize, sent_tokenize\n",
    "from nltk import CFG\n",
    "from nltk.parse import ChartParser\n",
    "\n",
    "import pandas as pd\n",
    "import string \n",
    "\n",
    "# Initialize corpus\n",
    "raw = open(\"yoda.txt\").read()\n",
    "corpus = raw.lower()\n",
    "corpus = corpus.replace(\"\\n\", \" \")"
   ]
  },
  {
   "cell_type": "markdown",
   "id": "3048b633",
   "metadata": {},
   "source": [
    "### Analyzing corpus"
   ]
  },
  {
   "cell_type": "code",
   "execution_count": 20,
   "id": "c0d56740",
   "metadata": {},
   "outputs": [
    {
     "name": "stdout",
     "output_type": "stream",
     "text": [
      "   Most frequent words\n",
      "1            (the, 64)\n",
      "2            (you, 54)\n",
      "3             (to, 33)\n",
      "4             (is, 31)\n",
      "5              (i, 27)\n",
      "6              (a, 22)\n",
      "7           (will, 20)\n",
      "8             (of, 17)\n",
      "9           (have, 16)\n",
      "10            (we, 15)\n",
      "11           (not, 15)\n",
      "12            (be, 14)\n",
      "13          (your, 14)\n",
      "14          (this, 13)\n",
      "15          (must, 13)\n",
      "16          (with, 13)\n",
      "17         (force, 13)\n",
      "18           (are, 11)\n",
      "19            (in, 11)\n",
      "20           (and, 11)\n",
      "Length of the text in characters: 6005\n",
      "Amount of sentences in corpus: 171\n",
      "Number of unique words: 397\n",
      "Avarage sentence length: 35.11695906432749\n"
     ]
    }
   ],
   "source": [
    "sentences = nltk.sent_tokenize(corpus)\n",
    "words = nltk.word_tokenize(corpus)\n",
    "\n",
    "# Remove punctuation\n",
    "words = [i.lower() for i in words if i.isalpha()]\n",
    "\n",
    "# Calculate corpus data\n",
    "length_corpus = len(corpus)\n",
    "amount_sentences = len(sentences)\n",
    "hapaxes = len(set(words))\n",
    "average_sentence_length = length_corpus / amount_sentences\n",
    "most_frequent_words = nltk.FreqDist(words).most_common(20)\n",
    "\n",
    "# Visualize the data\n",
    "data = {\"Most frequent words\": most_frequent_words}\n",
    "df = pd.DataFrame(data)\n",
    "df.index = pd.RangeIndex(start=1, stop=len(df) + 1)\n",
    "print(df)\n",
    "print(f\"Length of the text in characters: {length_corpus}\")\n",
    "print(f\"Amount of sentences in corpus: {amount_sentences}\")\n",
    "print(f\"Number of unique words: {hapaxes}\")\n",
    "print(f\"Avarage sentence length: {average_sentence_length}\")"
   ]
  },
  {
   "cell_type": "markdown",
   "id": "43c53113",
   "metadata": {},
   "source": [
    "### Constructing CFG\n",
    "1. Object-Subject-Verb Structure:\n",
    "    - \"Hard to see, the dark side is.\"\n",
    "2. Interrogative Sentences:\n",
    "    - \"Afraid are you?\"\n",
    "    - \"Master Qui-Gon, more to say have you?\"\n",
    "    - \"A vergence, you say?\"\n",
    "3. Complex Sentences:\n",
    "    - \"Fear is the path to the dark side, fear leads to anger, anger leads to hate, hate leads to suffering.\"\n",
    "    - \"Confer on you, the level of Jedi Knight the Council does. But agree on you taking this boy as your Padawan learner, I do not.\"\n",
    "4. Idiomatic phrases:\n",
    "    - \"May the Force be with you.\"\n",
    "5. Special Constructions:\n",
    "    - \"An apprentice, you have, Qui-Gon. Impossible, to take on a second.\"\n",
    "    - \"Ready so early, are you? What know you of ready?\""
   ]
  },
  {
   "cell_type": "code",
   "execution_count": 31,
   "id": "b16b637c",
   "metadata": {},
   "outputs": [],
   "source": [
    "# Define CFG rules\n",
    "grammar = CFG.fromstring('''\n",
    "    V -> 'is' | 'see' | 'discover' | 'must' | 'stay' | 'protect' | 'have' | 'say' | 'do' | 'request' | 'will' | 'feel' | 'are' | 'think' | 'leads' | 'continue' | 'were' | 'masked' | 'take' | 'know' | 'draw' | 'decided' | 'train' | 'confer' | 'agree' | 'fear' | 'sense' | 'need'\n",
    "    P -> 'to' | 'with' | 'on' | 'in' | 'by' | 'for' | 'of'\n",
    "    Det -> 'the' | 'this' | 'a' | 'an' | 'our' | 'your' | 'that'\n",
    "    N -> 'republic' | 'side' | 'assassin' | 'queen' | 'force' | 'master' | 'opinion' | 'jedi' | 'one' | 'path' | 'anger' | 'hate' | 'suffering' | 'commitment' | 'mind' | 'future' | 'youth' | 'apprentice' | 'second' | 'council' | 'attacker' | 'fate' | 'level' | 'knight' | 'council' | 'boy' | 'padawan' | 'learner' | 'danger' | 'training' | 'defiance'\n",
    "    PN -> 'Naboo' | 'Qui-Gon' | 'Force' | 'Jedi' | 'Knight' | 'Council' | 'Chosen' | 'One' | 'Skywalker' | 'Sith'\n",
    "    Adv -> 'not' | 'more' | 'very' | 'hard' | 'always' | 'nevertheless' \n",
    "    Conj -> ',' | '.'\n",
    "    Adj -> 'dark' | 'good' | 'young' | 'afraid' | 'deep' | 'serious' | 'ready' | 'grave' | 'early'\n",
    "    I -> 'May' | 'Then' | 'With' | 'But'\n",
    "''')"
   ]
  },
  {
   "cell_type": "markdown",
   "id": "8f85155d",
   "metadata": {},
   "source": [
    "### Parsing sentences"
   ]
  },
  {
   "cell_type": "code",
   "execution_count": 32,
   "id": "8d2e8997",
   "metadata": {},
   "outputs": [
    {
     "name": "stdout",
     "output_type": "stream",
     "text": [
      "Error parsing: ['The', 'very', 'Republic', 'is', 'threatened', ',', 'if', 'involved', 'the', 'Sith', 'are', '.']\n",
      "Error parsing: ['Hard', 'to', 'see', ',', 'the', 'dark', 'side', 'is', '.']\n",
      "Error parsing: ['Discover', 'who', 'this', 'assassin', 'is', ',', 'we', 'must', '.']\n",
      "Error parsing: ['With', 'this', 'Naboo', 'queen', 'you', 'must', 'stay', ',', 'Qui-Gon', '.', 'Protect', 'her', '.']\n",
      "Error parsing: ['May', 'the', 'Force', 'be', 'with', 'you', '.']\n",
      "Error parsing: ['Master', 'Qui-Gon', 'more', 'to', 'say', 'have', 'you', '?']\n",
      "Error parsing: ['A', 'vergence', ',', 'you', 'say', '?']\n",
      "Error parsing: ['But', 'you', 'do', '!', 'Revealed', 'your', 'opinion', 'is', '.']\n",
      "Error parsing: ['Trained', 'as', 'a', 'Jedi', ',', 'you', 'request', 'for', 'him', '?']\n",
      "Error parsing: ['Tested', 'he', 'will', 'be', '.']\n",
      "Error parsing: ['Good', ',', 'good', ',', 'young', 'one', '.', 'How', 'feel', 'you', '?']\n",
      "Error parsing: ['Afraid', 'are', 'you', '?']\n",
      "Error parsing: ['See', 'through', 'you', ',', 'we', 'can', '.']\n",
      "Error parsing: ['Afraid', 'to', 'lose', 'her', ',', 'I', 'think', '.']\n",
      "Error parsing: ['Everything', '.', 'Fear', 'is', 'the', 'path', 'to', 'the', 'dark', 'side', ',', 'fear', 'leads', 'to', 'anger', ',', 'anger', 'leads', 'to', 'hate', ',', 'hate', 'leads', 'to', 'suffering', '.']\n",
      "Error parsing: ['A', 'Jedi', 'must', 'have', 'the', 'deepest', 'commitment', ',', 'the', 'most', 'serious', 'mind', '.', 'I', 'sense', 'much', 'fear', 'in', 'you', '.']\n",
      "Error parsing: ['Then', 'continue', ',', 'we', 'will', '.']\n",
      "Error parsing: ['Correct', 'you', 'were', ',', 'Qui-Gon', '.']\n",
      "Error parsing: ['Clouded', ',', 'this', 'boy', \"'s\", 'future', 'is', '.', 'Masked', 'by', 'his', 'youth', '.']\n",
      "Error parsing: ['An', 'apprentice', ',', 'you', 'have', ',', 'Qui-Gon', '.', 'Impossible', ',', 'to', 'take', 'on', 'a', 'second', '.']\n",
      "Error parsing: ['Ready', 'so', 'early', ',', 'are', 'you', '?', 'What', 'know', 'you', 'of', 'ready', '?']\n",
      "Error parsing: ['Our', 'own', 'council', 'we', 'will', 'keep', 'on', 'who', 'is', 'ready', '.', 'More', 'to', 'learn', ',', 'he', 'has', '.']\n",
      "Error parsing: ['And', 'draw', 'out', 'the', 'Queen', \"'s\", 'attacker', '.']\n",
      "Error parsing: ['Young', 'Skywalker', \"'s\", 'fate', 'will', 'be', 'decided', 'later', '.']\n",
      "Error parsing: ['Train', 'him', 'not', '.', 'Take', 'him', 'with', 'you', ',', 'but', 'train', 'him', 'not', '!']\n",
      "Error parsing: ['May', 'the', 'Force', 'be', 'with', 'you', '.']\n",
      "Error parsing: ['Confer', 'on', 'you', ',', 'the', 'level', 'of', 'Jedi', 'Knight', 'the', 'Council', 'does', '.', 'But', 'agree', 'on', 'you', 'taking', 'this', 'boy', 'as', 'your', 'Padawan', 'learner', ',', 'I', 'do', 'not', '.']\n",
      "Error parsing: ['The', 'Chosen', 'One', 'the', 'boy', 'may', 'be', ',', 'nevertheless', ',', 'grave', 'danger', 'I', 'fear', 'in', 'his', 'training', '.']\n",
      "Error parsing: ['Qui-Gon', \"'s\", 'defiance', 'I', 'sense', 'in', 'you', '.', 'Need', 'that', ',', 'you', 'do', 'not', '.', 'Agree', ',', 'the', 'council', 'does', '.', 'Your', 'apprentice', ',', 'young', 'Skywalker', 'will', 'be', '.']\n",
      "Error parsing: ['Always', 'two', 'there', 'are', ',', 'no', 'more', ',', 'no', 'less', '.', 'A', 'master', 'and', 'an', 'apprentice', '.']\n"
     ]
    }
   ],
   "source": [
    "sentences = [\n",
    "    \"The very Republic is threatened, if involved the Sith are.\",\n",
    "    \"Hard to see, the dark side is.\",\n",
    "    \"Discover who this assassin is, we must.\",\n",
    "    \"With this Naboo queen you must stay, Qui-Gon. Protect her.\",\n",
    "    \"May the Force be with you.\",\n",
    "    \"Master Qui-Gon more to say have you?\",\n",
    "    \"A vergence, you say?\",\n",
    "    \"But you do! Revealed your opinion is.\",\n",
    "    \"Trained as a Jedi, you request for him?\",\n",
    "    \"Tested he will be.\",\n",
    "    \"Good, good, young one. How feel you?\",\n",
    "    \"Afraid are you?\",\n",
    "    \"See through you, we can.\",\n",
    "    \"Afraid to lose her, I think.\",\n",
    "    \"Everything. Fear is the path to the dark side, fear leads to anger, anger leads to hate, hate leads to suffering.\",\n",
    "    \"A Jedi must have the deepest commitment, the most serious mind. I sense much fear in you.\",\n",
    "    \"Then continue, we will.\",\n",
    "    \"Correct you were, Qui-Gon.\",\n",
    "    \"Clouded, this boy's future is. Masked by his youth.\",\n",
    "    \"An apprentice, you have, Qui-Gon. Impossible, to take on a second.\",\n",
    "    \"Ready so early, are you? What know you of ready?\",\n",
    "    \"Our own council we will keep on who is ready. More to learn, he has.\",\n",
    "    \"And draw out the Queen's attacker.\",\n",
    "    \"Young Skywalker's fate will be decided later.\",\n",
    "    \"Train him not. Take him with you, but train him not!\",\n",
    "    \"May the Force be with you.\",\n",
    "    \"Confer on you, the level of Jedi Knight the Council does. But agree on you taking this boy as your Padawan learner, I do not.\",\n",
    "    \"The Chosen One the boy may be, nevertheless, grave danger I fear in his training.\",\n",
    "    \"Qui-Gon's defiance I sense in you. Need that, you do not. Agree, the council does. Your apprentice, young Skywalker will be.\",\n",
    "    \"Always two there are, no more, no less. A master and an apprentice.\"\n",
    "]\n",
    "\n",
    "tokenized_sentences = [nltk.word_tokenize(i) for i in sentences]\n",
    "\n",
    "#Parse each sentence according to CFG\n",
    "parser = ChartParser(grammar)\n",
    "\n",
    "for i in tokenized_sentences:\n",
    "    try:\n",
    "        for tree in parser.parse(i):\n",
    "            print(tree)\n",
    "    except ValueError:\n",
    "        print(f'Error parsing: {i}')\n"
   ]
  },
  {
   "cell_type": "code",
   "execution_count": null,
   "id": "ced29dc2",
   "metadata": {},
   "outputs": [],
   "source": []
  }
 ],
 "metadata": {
  "kernelspec": {
   "display_name": "Python 3 (ipykernel)",
   "language": "python",
   "name": "python3"
  },
  "language_info": {
   "codemirror_mode": {
    "name": "ipython",
    "version": 3
   },
   "file_extension": ".py",
   "mimetype": "text/x-python",
   "name": "python",
   "nbconvert_exporter": "python",
   "pygments_lexer": "ipython3",
   "version": "3.10.6"
  }
 },
 "nbformat": 4,
 "nbformat_minor": 5
}
